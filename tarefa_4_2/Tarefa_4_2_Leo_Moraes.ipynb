{
  "cells": [
    {
      "cell_type": "markdown",
      "metadata": {
        "id": "BoR9Jepp-huo"
      },
      "source": [
        "1-) SUPONHA QUE A PROBABILIDADE DOS PAIS TEREM UM FILHO(A) COM CABELOS LOIROS SEJA ¼. SE HOUVER 6\n",
        "CRIANÇAS NA FAMÍLIA, QUAL É A PROBABILIDADE DE QUE METADE DELAS TEREM CABELOS LOIROS?\n",
        "\n"
      ]
    },
    {
      "cell_type": "code",
      "execution_count": 1,
      "metadata": {
        "colab": {
          "base_uri": "https://localhost:8080/"
        },
        "id": "hD7ErmVq9qrp",
        "outputId": "e342f7ba-8f07-4bae-883a-12093ce64e58"
      },
      "outputs": [
        {
          "output_type": "stream",
          "name": "stdout",
          "text": [
            "A probabilidade de exatamente metade das 6 crianças terem cabelos loiros é: 0.1318\n"
          ]
        }
      ],
      "source": [
        "# import scipy\n",
        "from scipy.stats import binom\n",
        "\n",
        "n = 6\n",
        "p = 1/4 # Probabilidade de uma criança ter cabelos loiros\n",
        "\n",
        "# Número de crianças com cabelos loiros\n",
        "k = n // 2\n",
        "\n",
        "# Calcula a probabilidade\n",
        "probabilidade = binom.pmf(k, n, p)\n",
        "\n",
        "print(f\"A probabilidade de exatamente metade das {n} crianças terem cabelos loiros é: {probabilidade:.4f}\")\n"
      ]
    },
    {
      "cell_type": "markdown",
      "metadata": {
        "id": "py40i6lw_Idh"
      },
      "source": [
        "2-) NOS EUA, O NÚMERO MÉDIO DE FALÊNCIAS POR HORA ERA OITO (FONTE: WALL STREET JOURNAL – LARSON &\n",
        "FARBER (2006)). OBTENHA A PROBABILIDADE DE OCORRER EXATAMENTE QUATRO FALÊNCIAS EM UMA\n",
        "DETERMINADA HORA.\n"
      ]
    },
    {
      "cell_type": "code",
      "execution_count": 2,
      "metadata": {
        "colab": {
          "base_uri": "https://localhost:8080/"
        },
        "id": "Kfm9xr2j_QYr",
        "outputId": "0be962fd-e411-4c12-c77b-2e05e586efe0"
      },
      "outputs": [
        {
          "output_type": "stream",
          "name": "stdout",
          "text": [
            "A probabilidade de ocorrer exatamente 4 falências em uma hora é: 0.0573\n"
          ]
        }
      ],
      "source": [
        "from scipy.stats import poisson\n",
        "\n",
        "media_falencias = 8 # Número médio de falências por hora\n",
        "k = 4 # Número de falências desejado\n",
        "\n",
        "# Calcula a probabilidade usando a distribuição de Poisson\n",
        "probabilidade = poisson.pmf(k, media_falencias)\n",
        "\n",
        "print(f\"A probabilidade de ocorrer exatamente {k} falências em uma hora é: {probabilidade:.4f}\")\n"
      ]
    },
    {
      "cell_type": "markdown",
      "metadata": {
        "id": "yJ1DidOlByLe"
      },
      "source": [
        "\n",
        "4-) O NÚMERO DE HORAS SEMANAIS QUE OS ADULTOS NORTE-AMERICANOS GASTAM EM FRENTE AO COMPUTADOR\n",
        "EM CASA É NORMALMENTE DISTRIBUÍDO, COM MÉDIA DE 5 HORAS E DESVIO PADRÃO DE 1 HORA. UM ADULTO FOI\n",
        "SELECIONADO AO ACASO.\n",
        "\n",
        "A-) OBTENHA A PROBABILIDADE DE O NÚMERO DE HORAS GASTAS NO COMPUTADOR PELO ADULTO SER INFERIOR A\n",
        "2,5 SEMANAIS.\n",
        "\n",
        "B-) OBTENHA A PROBABILIDADE DE O NÚMERO DE HORAS GASTAS NO COMPUTADOR PELO ADULTO ESTAR ENTRE\n",
        "2,5 E 7,5.\n",
        "\n",
        "C-) OBTENHA A PROBABILIDADE DE O NÚMERO DE HORAS GASTAS NO COMPUTADOR SER SUPERIOR A 7,5 HORAS\n",
        "SEMANAIS.\n"
      ]
    },
    {
      "cell_type": "code",
      "execution_count": 4,
      "metadata": {
        "colab": {
          "base_uri": "https://localhost:8080/"
        },
        "id": "SeFbs7ScCW73",
        "outputId": "75679a76-3443-493f-ad15-b2cd638d92a2"
      },
      "outputs": [
        {
          "output_type": "stream",
          "name": "stdout",
          "text": [
            "A probabilidade de gastar menos de 2.5 horas semanais no computador é: 0.0062\n",
            "A probabilidade de gastar entre 2.5 e 7.5 horas semanais no computador é: 0.9876\n",
            "A probabilidade de gastar mais de 7.5 horas semanais no computador é: 0.0062\n"
          ]
        }
      ],
      "source": [
        "\n",
        "# Letra A\n",
        "media = 5\n",
        "desvio_padrao = 1\n",
        "limite_inferior = 2.5\n",
        "\n",
        "# Calcula a probabilidade usando a distribuição normal\n",
        "probabilidade_a = norm.cdf(limite_inferior, loc=media, scale=desvio_padrao)\n",
        "\n",
        "print(f\"A probabilidade de gastar menos de {limite_inferior} horas semanais no computador é: {probabilidade_a:.4f}\")\n",
        "\n",
        "\n",
        "# Letra B\n",
        "media = 5\n",
        "desvio_padrao = 1\n",
        "limite_inferior = 2.5\n",
        "limite_superior = 7.5\n",
        "\n",
        "# Calcula a probabilidade usando a distribuição normal\n",
        "probabilidade_b = norm.cdf(limite_superior, loc=media, scale=desvio_padrao) - norm.cdf(limite_inferior, loc=media, scale=desvio_padrao)\n",
        "\n",
        "print(f\"A probabilidade de gastar entre {limite_inferior} e {limite_superior} horas semanais no computador é: {probabilidade_b:.4f}\")\n",
        "\n",
        "\n",
        "\n",
        "\n",
        "#Letra C\n",
        "media = 5\n",
        "desvio_padrao = 1\n",
        "limite_superior = 7.5\n",
        "\n",
        "# Calcula a probabilidade usando a distribuição normal\n",
        "probabilidade_c = 1 - norm.cdf(limite_superior, loc=media, scale=desvio_padrao)\n",
        "\n",
        "print(f\"A probabilidade de gastar mais de {limite_superior} horas semanais no computador é: {probabilidade_c:.4f}\")"
      ]
    }
  ],
  "metadata": {
    "colab": {
      "provenance": [],
      "toc_visible": true
    },
    "kernelspec": {
      "display_name": "Python 3",
      "name": "python3"
    },
    "language_info": {
      "codemirror_mode": {
        "name": "ipython",
        "version": 3
      },
      "file_extension": ".py",
      "mimetype": "text/x-python",
      "name": "python",
      "nbconvert_exporter": "python",
      "pygments_lexer": "ipython3",
      "version": "3.12.0"
    }
  },
  "nbformat": 4,
  "nbformat_minor": 0
}